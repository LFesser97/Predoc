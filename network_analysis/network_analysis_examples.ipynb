{
  "cells": [
    {
      "cell_type": "code",
      "execution_count": null,
      "metadata": {
        "id": "liEsWlfMF0PB"
      },
      "outputs": [],
      "source": [
        "\"\"\"\n",
        "network_analysis_examples.ipynb\n",
        "\n",
        "Created on Sun Mar 19 2023\n",
        "\n",
        "@author: Lukas\n",
        "\n",
        "This notebook serves as a playground for the code in the\n",
        "network analysis repo.\n",
        "\"\"\""
      ]
    },
    {
      "cell_type": "code",
      "execution_count": null,
      "metadata": {},
      "outputs": [],
      "source": [
        "# import packages\n",
        "\n",
        "import networkx as nx\n",
        "import matplotlib.pyplot as plt\n",
        "import numpy as np\n",
        "import pandas as pd"
      ]
    },
    {
      "cell_type": "code",
      "execution_count": null,
      "metadata": {
        "id": "smVx_rZSGK4T"
      },
      "outputs": [],
      "source": [
        "# create an empty pandas dataframe with columns \"Name\", \"Type\", \"Suppliers\", and \"Shareholders\"\n",
        "\n",
        "df = pd.DataFrame(columns=[\"Name\", \"Type\", \"Suppliers\", \"Shareholders\"])\n",
        "\n",
        "\n",
        "# populate the dataframe\n",
        "\n",
        "df = df.append({\"Name\": \"Company A\", \"Type\": \"Company\", \"Suppliers\": [\"Company B\", \"Company C\"], \"Shareholders\": [\"Bank A\", \"Individual A\"]}, ignore_index=True)\n",
        "df = df.append({\"Name\": \"Company B\", \"Type\": \"Company\", \"Suppliers\": [\"Company C\", \"Company D\"], \"Shareholders\": [\"Bank A\", \"Individual B\"]}, ignore_index=True)\n",
        "df = df.append({\"Name\": \"Company C\", \"Type\": \"Company\", \"Suppliers\": [\"Company D\"], \"Shareholders\": [\"Bank B\", \"Individual A\"]}, ignore_index=True)\n",
        "df = df.append({\"Name\": \"Company D\", \"Type\": \"Company\", \"Suppliers\": [], \"Shareholders\": [\"Bank B\", \"Individual C\"]}, ignore_index=True)"
      ]
    },
    {
      "cell_type": "code",
      "execution_count": null,
      "metadata": {},
      "outputs": [],
      "source": [
        "# create a directed graph of suppliers from the dataframe\n",
        "\n",
        "G = nx.DiGraph()\n",
        "\n",
        "for index, row in df.iterrows():\n",
        "    for supplier in row[\"Suppliers\"]:\n",
        "        G.add_edge(supplier, row[\"Name\"])"
      ]
    },
    {
      "cell_type": "code",
      "execution_count": null,
      "metadata": {},
      "outputs": [],
      "source": [
        "# draw the graph, move the labels above the nodes so they don't overlap\n",
        "\n",
        "pos = nx.spring_layout(G)\n",
        "nx.draw(G, pos, with_labels=True, node_size=500, node_color=\"orange\")\n",
        "labels = nx.get_edge_attributes(G, 'weight')\n",
        "nx.draw_networkx_edge_labels(G, pos, edge_labels=labels, label_pos=0.3, font_size=8)\n",
        "plt.show()"
      ]
    },
    {
      "cell_type": "code",
      "execution_count": null,
      "metadata": {},
      "outputs": [],
      "source": [
        "# create a directed graph of shareholders from the dataframe\n",
        "\n",
        "H = nx.DiGraph()\n",
        "\n",
        "for index, row in df.iterrows():\n",
        "    for shareholder in row[\"Shareholders\"]:\n",
        "        H.add_edge(shareholder, row[\"Name\"])"
      ]
    },
    {
      "cell_type": "code",
      "execution_count": null,
      "metadata": {},
      "outputs": [],
      "source": [
        "# draw the graph, extend pos to include the new nodes\n",
        "\n",
        "pos.update(nx.spring_layout(H))\n",
        "\n",
        "# color the nodes according to their type\n",
        "\n",
        "node_colors = []\n",
        "for node in H.nodes():\n",
        "    if node in df[\"Name\"].values:\n",
        "        node_colors.append(\"orange\")\n",
        "    else:\n",
        "        node_colors.append(\"lightblue\")\n",
        "\n",
        "# draw the graph\n",
        "\n",
        "nx.draw(H, pos, with_labels=True, node_size=500, node_color=node_colors)\n",
        "labels = nx.get_edge_attributes(H, 'weight')\n",
        "nx.draw_networkx_edge_labels(H, pos, edge_labels=labels, label_pos=0.3, font_size=8)\n",
        "plt.show()"
      ]
    },
    {
      "cell_type": "code",
      "execution_count": null,
      "metadata": {},
      "outputs": [],
      "source": [
        "# create a heterogeneous graph from the two directed graphs\n",
        "\n",
        "I = nx.compose(G, H)\n",
        "\n",
        "# color the edges according to the network they belong to\n",
        "\n",
        "edge_colors = []\n",
        "for edge in I.edges():\n",
        "    if edge in G.edges():\n",
        "        edge_colors.append(\"red\")\n",
        "    else:\n",
        "        edge_colors.append(\"blue\")\n",
        "\n",
        "# color the nodes according to their type\n",
        "\n",
        "node_colors = []\n",
        "for node in I.nodes():\n",
        "    if node in df[\"Name\"].values:\n",
        "        node_colors.append(\"orange\")\n",
        "    else:\n",
        "        node_colors.append(\"lightblue\")\n",
        "\n",
        "# creat a new pos, make sure edges don't overlap with nodes or legends\n",
        "\n",
        "pos = nx.spring_layout(I)\n",
        "pos.update((n, (x, y+0.1)) for n, (x, y) in pos.items())\n",
        "pos.update((n, (x, y-0.1)) for n, (x, y) in pos.items())\n",
        "\n",
        "# draw the graph\n",
        "\n",
        "nx.draw(I, pos, with_labels=True, node_size=500, node_color=node_colors, edge_color=edge_colors)\n",
        "labels = nx.get_edge_attributes(I, 'weight')\n",
        "nx.draw_networkx_edge_labels(I, pos, edge_labels=labels, label_pos=0.3, font_size=8)\n",
        "\n",
        "# add two legends, one for the edge colors and one for the node colors\n",
        "\n",
        "edge_legend = plt.legend([plt.Line2D([0], [0], color=\"red\", lw=4), plt.Line2D([0], [0], color=\"blue\", lw=4)], [\"Supplier\", \"Shareholder\"], loc=\"lower left\", title=\"Edge Color\")\n",
        "node_legend = plt.legend([plt.Line2D([0], [0], color=\"orange\", lw=4), plt.Line2D([0], [0], color=\"lightblue\", lw=4)], [\"Company\", \"Bank/Individual\"], loc=\"lower right\", title=\"Node Color\")\n",
        "plt.gca().add_artist(edge_legend)\n",
        "plt.show()"
      ]
    }
  ],
  "metadata": {
    "colab": {
      "provenance": []
    },
    "kernelspec": {
      "display_name": "base",
      "language": "python",
      "name": "python3"
    },
    "language_info": {
      "name": "python",
      "version": "3.9.12"
    },
    "vscode": {
      "interpreter": {
        "hash": "5beae9835b3277c3a4a8c87413b972e297eaccb765a3f62b691c35696bfb6223"
      }
    }
  },
  "nbformat": 4,
  "nbformat_minor": 0
}

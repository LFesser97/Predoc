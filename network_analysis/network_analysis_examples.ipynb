{
  "cells": [
    {
      "cell_type": "code",
      "execution_count": null,
      "metadata": {
        "id": "liEsWlfMF0PB"
      },
      "outputs": [],
      "source": [
        "\"\"\"\n",
        "network_analysis_examples.ipynb\n",
        "\n",
        "Created on Sun Mar 19 2023\n",
        "\n",
        "@author: Lukas\n",
        "\n",
        "This notebook serves as a playground for the code in the\n",
        "network analysis repo.\n",
        "\"\"\""
      ]
    },
    {
      "cell_type": "code",
      "execution_count": null,
      "metadata": {},
      "outputs": [],
      "source": [
        "# import packages\n",
        "\n",
        "import networkx as nx\n",
        "import matplotlib.pyplot as plt\n",
        "import numpy as np\n",
        "import pandas as pd"
      ]
    },
    {
      "cell_type": "code",
      "execution_count": null,
      "metadata": {
        "id": "smVx_rZSGK4T"
      },
      "outputs": [],
      "source": [
        "# create an empty pandas dataframe with columns \"Name\", \"Type\", \"Suppliers\", and \"Shareholders\"\n",
        "\n",
        "df = pd.DataFrame(columns=[\"Name\", \"Type\", \"Suppliers\", \"Shareholders\"])\n",
        "\n",
        "\n",
        "# populate the dataframe\n",
        "\n",
        "df = df.append({\"Name\": \"Company A\", \"Type\": \"Company\", \"Suppliers\": [\"Company B\", \"Company C\"], \"Shareholders\": [\"Bank A\", \"Individual A\"]}, ignore_index=True)\n",
        "df = df.append({\"Name\": \"Company B\", \"Type\": \"Company\", \"Suppliers\": [\"Company C\", \"Company D\"], \"Shareholders\": [\"Bank A\", \"Individual B\"]}, ignore_index=True)\n",
        "df = df.append({\"Name\": \"Company C\", \"Type\": \"Company\", \"Suppliers\": [\"Company D\"], \"Shareholders\": [\"Bank B\", \"Individual A\"]}, ignore_index=True)\n",
        "df = df.append({\"Name\": \"Company D\", \"Type\": \"Company\", \"Suppliers\": [], \"Shareholders\": [\"Bank B\", \"Individual C\"]}, ignore_index=True)"
      ]
    },
    {
      "cell_type": "code",
      "execution_count": null,
      "metadata": {},
      "outputs": [],
      "source": [
        "# create a directed graph of suppliers from the dataframe\n",
        "\n",
        "G = nx.DiGraph()\n",
        "\n",
        "for index, row in df.iterrows():\n",
        "    for supplier in row[\"Suppliers\"]:\n",
        "        G.add_edge(supplier, row[\"Name\"])\n",
        "\n",
        "# draw the graph, move the labels above the nodes so they don't overlap\n",
        "\n",
        "pos = nx.spring_layout(G)\n",
        "nx.draw(G, pos, with_labels=True, node_size=500, node_color=\"orange\")\n",
        "labels = nx.get_edge_attributes(G, 'weight')\n",
        "nx.draw_networkx_edge_labels(G, pos, edge_labels=labels, label_pos=0.3, font_size=8)\n",
        "plt.show()"
      ]
    },
    {
      "cell_type": "code",
      "execution_count": null,
      "metadata": {},
      "outputs": [],
      "source": []
    }
  ],
  "metadata": {
    "colab": {
      "provenance": []
    },
    "kernelspec": {
      "display_name": "Python 3",
      "name": "python3"
    },
    "language_info": {
      "name": "python"
    }
  },
  "nbformat": 4,
  "nbformat_minor": 0
}

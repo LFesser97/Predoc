{
  "cells": [
    {
      "cell_type": "code",
      "execution_count": 1,
      "metadata": {
        "id": "liEsWlfMF0PB"
      },
      "outputs": [
        {
          "data": {
            "text/plain": [
              "'\\nnetwork_analysis_examples.ipynb\\n\\nCreated on Sun Mar 19 2023\\n\\n@author: Lukas\\n\\nThis notebook serves as a playground for the code in the\\nnetwork analysis repo.\\n'"
            ]
          },
          "execution_count": 1,
          "metadata": {},
          "output_type": "execute_result"
        }
      ],
      "source": [
        "\"\"\"\n",
        "network_analysis_examples.ipynb\n",
        "\n",
        "Created on Sun Mar 19 2023\n",
        "\n",
        "@author: Lukas\n",
        "\n",
        "This notebook serves as a playground for the code in the\n",
        "network analysis repo.\n",
        "\"\"\""
      ]
    },
    {
      "cell_type": "code",
      "execution_count": null,
      "metadata": {},
      "outputs": [],
      "source": [
        "# only need to run this in Colab\n",
        "\n",
        "! git clone https://github.com/LFesser97/Predoc.git\n",
        "%cd \"/content/Predoc/network_analysis\""
      ]
    },
    {
      "cell_type": "code",
      "execution_count": 2,
      "metadata": {},
      "outputs": [],
      "source": [
        "# import packages\n",
        "\n",
        "import networkx as nx\n",
        "import matplotlib.pyplot as plt\n",
        "import numpy as np\n",
        "import pandas as pd\n",
        "\n",
        "\n",
        "# import other files from this project\n",
        "\n",
        "import network_dataset_objects as ndo"
      ]
    },
    {
      "cell_type": "code",
      "execution_count": 3,
      "metadata": {
        "id": "smVx_rZSGK4T"
      },
      "outputs": [
        {
          "name": "stderr",
          "output_type": "stream",
          "text": [
            "C:\\Users\\Lukas\\AppData\\Local\\Temp\\ipykernel_9760\\3218148245.py:8: FutureWarning: The frame.append method is deprecated and will be removed from pandas in a future version. Use pandas.concat instead.\n",
            "  df = df.append({\"name\": \"Company A\", \"type\": \"Company\", \"suppliers\": [\"Company B\", \"Company C\"], \"shareholders\": [\"Bank A\", \"Individual A\"]}, ignore_index=True)\n",
            "C:\\Users\\Lukas\\AppData\\Local\\Temp\\ipykernel_9760\\3218148245.py:9: FutureWarning: The frame.append method is deprecated and will be removed from pandas in a future version. Use pandas.concat instead.\n",
            "  df = df.append({\"name\": \"Company B\", \"type\": \"Company\", \"suppliers\": [\"Company C\", \"Company D\"], \"shareholders\": [\"Bank A\", \"Individual B\"]}, ignore_index=True)\n",
            "C:\\Users\\Lukas\\AppData\\Local\\Temp\\ipykernel_9760\\3218148245.py:10: FutureWarning: The frame.append method is deprecated and will be removed from pandas in a future version. Use pandas.concat instead.\n",
            "  df = df.append({\"name\": \"Company C\", \"type\": \"Company\", \"suppliers\": [\"Company D\"], \"shareholders\": [\"Bank B\", \"Individual A\"]}, ignore_index=True)\n",
            "C:\\Users\\Lukas\\AppData\\Local\\Temp\\ipykernel_9760\\3218148245.py:11: FutureWarning: The frame.append method is deprecated and will be removed from pandas in a future version. Use pandas.concat instead.\n",
            "  df = df.append({\"name\": \"Company D\", \"type\": \"Company\", \"suppliers\": [], \"shareholders\": [\"Bank B\", \"Individual C\"]}, ignore_index=True)\n"
          ]
        }
      ],
      "source": [
        "# create an empty pandas dataframe with columns \"Name\", \"Type\", \"Suppliers\", and \"Shareholders\"\n",
        "\n",
        "df = pd.DataFrame(columns=[\"name\", \"type\", \"suppliers\", \"shareholders\"])\n",
        "\n",
        "\n",
        "# populate the dataframe\n",
        "\n",
        "df = df.append({\"name\": \"Company A\", \"type\": \"Company\", \"suppliers\": [\"Company B\", \"Company C\"], \"shareholders\": [\"Bank A\", \"Individual A\"]}, ignore_index=True)\n",
        "df = df.append({\"name\": \"Company B\", \"type\": \"Company\", \"suppliers\": [\"Company C\", \"Company D\"], \"shareholders\": [\"Bank A\", \"Individual B\"]}, ignore_index=True)\n",
        "df = df.append({\"name\": \"Company C\", \"type\": \"Company\", \"suppliers\": [\"Company D\"], \"shareholders\": [\"Bank B\", \"Individual A\"]}, ignore_index=True)\n",
        "df = df.append({\"name\": \"Company D\", \"type\": \"Company\", \"suppliers\": [], \"shareholders\": [\"Bank B\", \"Individual C\"]}, ignore_index=True)"
      ]
    },
    {
      "cell_type": "code",
      "execution_count": 4,
      "metadata": {},
      "outputs": [
        {
          "data": {
            "text/html": [
              "<div>\n",
              "<style scoped>\n",
              "    .dataframe tbody tr th:only-of-type {\n",
              "        vertical-align: middle;\n",
              "    }\n",
              "\n",
              "    .dataframe tbody tr th {\n",
              "        vertical-align: top;\n",
              "    }\n",
              "\n",
              "    .dataframe thead th {\n",
              "        text-align: right;\n",
              "    }\n",
              "</style>\n",
              "<table border=\"1\" class=\"dataframe\">\n",
              "  <thead>\n",
              "    <tr style=\"text-align: right;\">\n",
              "      <th></th>\n",
              "      <th>name</th>\n",
              "      <th>type</th>\n",
              "      <th>suppliers</th>\n",
              "      <th>shareholders</th>\n",
              "    </tr>\n",
              "  </thead>\n",
              "  <tbody>\n",
              "    <tr>\n",
              "      <th>0</th>\n",
              "      <td>Company A</td>\n",
              "      <td>Company</td>\n",
              "      <td>[Company B, Company C]</td>\n",
              "      <td>[Bank A, Individual A]</td>\n",
              "    </tr>\n",
              "    <tr>\n",
              "      <th>1</th>\n",
              "      <td>Company B</td>\n",
              "      <td>Company</td>\n",
              "      <td>[Company C, Company D]</td>\n",
              "      <td>[Bank A, Individual B]</td>\n",
              "    </tr>\n",
              "    <tr>\n",
              "      <th>2</th>\n",
              "      <td>Company C</td>\n",
              "      <td>Company</td>\n",
              "      <td>[Company D]</td>\n",
              "      <td>[Bank B, Individual A]</td>\n",
              "    </tr>\n",
              "    <tr>\n",
              "      <th>3</th>\n",
              "      <td>Company D</td>\n",
              "      <td>Company</td>\n",
              "      <td>[]</td>\n",
              "      <td>[Bank B, Individual C]</td>\n",
              "    </tr>\n",
              "  </tbody>\n",
              "</table>\n",
              "</div>"
            ],
            "text/plain": [
              "        name     type               suppliers            shareholders\n",
              "0  Company A  Company  [Company B, Company C]  [Bank A, Individual A]\n",
              "1  Company B  Company  [Company C, Company D]  [Bank A, Individual B]\n",
              "2  Company C  Company             [Company D]  [Bank B, Individual A]\n",
              "3  Company D  Company                      []  [Bank B, Individual C]"
            ]
          },
          "execution_count": 4,
          "metadata": {},
          "output_type": "execute_result"
        }
      ],
      "source": [
        "df"
      ]
    },
    {
      "cell_type": "code",
      "execution_count": 5,
      "metadata": {},
      "outputs": [],
      "source": [
        "# create an empty NetworkDataset object and read in the pandas dataframe\n",
        "\n",
        "example = ndo.NetworkDataset()\n",
        "\n",
        "example.dataset = df"
      ]
    },
    {
      "cell_type": "code",
      "execution_count": 10,
      "metadata": {},
      "outputs": [
        {
          "data": {
            "image/png": "[encoded data removed]",
            "text/plain": [
              "<Figure size 432x288 with 1 Axes>"
            ]
          },
          "metadata": {},
          "output_type": "display_data"
        }
      ],
      "source": [
        "# create and plot supplier network\n",
        "\n",
        "example.create_homogeneous_network(\"supplier\")\n",
        "\n",
        "example.networks['supplier'].visualize_network()"
      ]
    },
    {
      "cell_type": "code",
      "execution_count": 14,
      "metadata": {},
      "outputs": [
        {
          "data": {
            "image/png": "[encoded data removed]",
            "text/plain": [
              "<Figure size 432x288 with 1 Axes>"
            ]
          },
          "metadata": {},
          "output_type": "display_data"
        }
      ],
      "source": [
        "# plot a motif we're interested in\n",
        "\n",
        "my_favorite_motif = nx.DiGraph([(1,2),(1,3),(2,3)])\n",
        "\n",
        "nx.draw(my_favorite_motif)"
      ]
    },
    {
      "cell_type": "code",
      "execution_count": 15,
      "metadata": {},
      "outputs": [
        {
          "data": {
            "text/plain": [
              "2"
            ]
          },
          "execution_count": 15,
          "metadata": {},
          "output_type": "execute_result"
        }
      ],
      "source": [
        "# add the motif to the supplier network\n",
        "\n",
        "example.networks['supplier'].create_motif(\"my_favorite_motif\", my_favorite_motif)\n",
        "\n",
        "example.networks['supplier'].count_motif_frequency(\"my_favorite_motif\")\n",
        "\n",
        "example.networks['supplier'].motifs['my_favorite_motif'].frequency"
      ]
    }
  ],
  "metadata": {
    "colab": {
      "provenance": []
    },
    "kernelspec": {
      "display_name": "base",
      "language": "python",
      "name": "python3"
    },
    "language_info": {
      "codemirror_mode": {
        "name": "ipython",
        "version": 3
      },
      "file_extension": ".py",
      "mimetype": "text/x-python",
      "name": "python",
      "nbconvert_exporter": "python",
      "pygments_lexer": "ipython3",
      "version": "3.9.12"
    },
    "vscode": {
      "interpreter": {
        "hash": "5beae9835b3277c3a4a8c87413b972e297eaccb765a3f62b691c35696bfb6223"
      }
    }
  },
  "nbformat": 4,
  "nbformat_minor": 0
}
